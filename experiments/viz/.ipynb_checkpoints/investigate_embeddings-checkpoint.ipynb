{
 "cells": [
  {
   "cell_type": "code",
   "execution_count": 1,
   "id": "e3b9f142",
   "metadata": {},
   "outputs": [],
   "source": [
    "import numpy as np\n",
    "import matplotlib.pyplot as plt"
   ]
  },
  {
   "cell_type": "code",
   "execution_count": 2,
   "id": "0728a326",
   "metadata": {},
   "outputs": [],
   "source": [
    "fz = np.load('../full_gsat_fs.pt.npy')\n",
    "mz = np.load('../mask_gsat_fs.pt.npy')\n",
    "\n",
    "print('fz', fz.shape)\n",
    "print('mz', mz.shape)"
   ]
  },
  {
   "cell_type": "code",
   "execution_count": 3,
   "id": "e17fa769",
   "metadata": {},
   "outputs": [],
   "source": [
    "from sklearn.manifold import TSNE\n",
    "import umap\n",
    "\n",
    "tsne_z = umap.UMAP().fit_transform(np.concatenate([fz, mz], axis=0))\n",
    "\n",
    "fig = plt.gcf()\n",
    "fig.set_dpi(200)\n",
    "plt.scatter(tsne_z[:,0], tsne_z[:,1], c = (([0] * fz.shape[0]) + ([1] * mz.shape[0])))\n",
    "plt.title('Full (purple) vs. Masked (yellow) Embeddings')\n",
    "plt.xlabel('UMAP-0')\n",
    "plt.ylabel('UMAP-1')\n",
    "plt.show()"
   ]
  },
  {
   "cell_type": "code",
   "execution_count": 20,
   "id": "248950f3",
   "metadata": {},
   "outputs": [],
   "source": [
    "# Separate:\n",
    "\n",
    "fig, (ax1, ax2) = plt.subplots(1, 2, dpi = 200)\n",
    "\n",
    "tsne_fz = TSNE().fit_transform(fz)\n",
    "ax1.scatter(tsne_fz[:,0], tsne_fz[:,1])\n",
    "\n",
    "tsne_mz = TSNE().fit_transform(mz)\n",
    "ax2.scatter(tsne_mz[:,0], tsne_mz[:,1])\n",
    "\n",
    "plt.show()"
   ]
  },
  {
   "cell_type": "code",
   "execution_count": 5,
   "id": "388f99a1",
   "metadata": {},
   "outputs": [],
   "source": [
    "import torch\n",
    "from txai.utils.cl_metrics import sim_mat\n",
    "\n",
    "smz = sim_mat(torch.from_numpy(fz), torch.from_numpy(mz))\n",
    "smf = sim_mat(torch.from_numpy(fz), torch.from_numpy(fz))\n",
    "smm = sim_mat(torch.from_numpy(mz), torch.from_numpy(mz))\n",
    "\n",
    "fig, (ax1, ax2, ax3) = plt.subplots(1, 3, dpi = 200, figsize = (20, 10))\n",
    "\n",
    "cbar = ax1.imshow(smz)\n",
    "plt.colorbar(cbar, ax = ax1)\n",
    "ax1.set_title('Full vs. Masked')\n",
    "ax1.set_xlabel('Full')\n",
    "ax1.set_ylabel('Masked')\n",
    "\n",
    "cbar = ax2.imshow(smf)\n",
    "plt.colorbar(cbar, ax = ax2)\n",
    "ax2.set_title('Full vs. Full')\n",
    "ax2.set_xlabel('Full')\n",
    "ax2.set_ylabel('Full')\n",
    "\n",
    "cbar = ax3.imshow(smm)\n",
    "plt.colorbar(cbar, ax = ax3)\n",
    "ax3.set_title('Masked vs. Masked')\n",
    "ax3.set_xlabel('Masked')\n",
    "ax3.set_ylabel('Masked')\n",
    "\n",
    "plt.show()"
   ]
  },
  {
   "cell_type": "code",
   "execution_count": 6,
   "id": "8437f537",
   "metadata": {},
   "outputs": [],
   "source": [
    "import umap"
   ]
  },
  {
   "cell_type": "code",
   "execution_count": 7,
   "id": "90edc806",
   "metadata": {},
   "outputs": [],
   "source": [
    "umap_z = umap.UMAP().fit_transform(np.concatenate([fz, mz], axis=0))\n",
    "print(umap_z.shape)"
   ]
  },
  {
   "cell_type": "code",
   "execution_count": 8,
   "id": "117bc242",
   "metadata": {},
   "outputs": [],
   "source": [
    "plt.scatter(umap_z[:,0], umap_z[:,1], c = (([0] * fz.shape[0]) + ([1] * mz.shape[0])))\n",
    "plt.show()"
   ]
  },
  {
   "cell_type": "code",
   "execution_count": 9,
   "id": "95f8c427",
   "metadata": {},
   "outputs": [],
   "source": [
    "umap_z = umap.UMAP(n_neighbors = 50, min_dist = 0.5, metric=\"cosine\").fit_transform(np.concatenate([fz, mz], axis=0))\n",
    "\n",
    "plt.scatter(umap_z[:,0], umap_z[:,1], c = (([0] * fz.shape[0]) + ([1] * mz.shape[0])))\n",
    "plt.show()"
   ]
  },
  {
   "cell_type": "code",
   "execution_count": 10,
   "id": "d38ff78d",
   "metadata": {},
   "outputs": [],
   "source": [
    "# Random permutation experiment:\n",
    "inds = np.random.choice(np.arange(mz.shape[0]), size = (mz.shape[0],), replace = False)"
   ]
  },
  {
   "cell_type": "code",
   "execution_count": 11,
   "id": "de1c2e40",
   "metadata": {},
   "outputs": [],
   "source": [
    "from numpy.linalg import norm\n",
    "def batched_cosine_sim(z1, z2):\n",
    "    sim = []\n",
    "    for i in range(z1.shape[0]):\n",
    "        s = np.dot(z1[i,:], z2[i,:]) / (norm(z1[i,:]) * norm(z2[i,:]))\n",
    "        sim.append(s)\n",
    "    return sim"
   ]
  },
  {
   "cell_type": "code",
   "execution_count": 12,
   "id": "e931b3a7",
   "metadata": {},
   "outputs": [],
   "source": [
    "# Compute shuffled sims\n",
    "shuffle_sim = batched_cosine_sim(fz, mz[inds,:])\n",
    "print('Shuffled', np.mean(shuffle_sim))"
   ]
  },
  {
   "cell_type": "code",
   "execution_count": 13,
   "id": "383fd76c",
   "metadata": {},
   "outputs": [],
   "source": [
    "# What about inter-class?\n",
    "y = ([0] * 250) + ([1] * 250) + ([2] * 250) + ([3] * 250)\n",
    "print(fz.shape)\n",
    "y = np.array(y)\n",
    "print(y.shape)"
   ]
  },
  {
   "cell_type": "code",
   "execution_count": 14,
   "id": "9399bdf8",
   "metadata": {},
   "outputs": [],
   "source": [
    "sim_matrix_fz = []\n",
    "sim_matrix_mf = []\n",
    "sim_matrix_shuffle_mf = []\n",
    "\n",
    "for yi in np.unique(y):\n",
    "    # 1. shuffle\n",
    "    nyi = (y == yi).sum()\n",
    "    rand_inds = np.random.choice(np.nonzero(y == yi)[0], size = nyi, replace = False)\n",
    "    \n",
    "    # Fz computation:\n",
    "    sim1 = batched_cosine_sim(fz[y == yi,:], mz[y == yi,:])\n",
    "    sim_matrix_mf.append(sim1)\n",
    "    \n",
    "    sim2 = batched_cosine_sim(fz[y == yi,:], fz[y == yi,:])\n",
    "    sim_matrix_fz.append(sim2)\n",
    "    \n",
    "    mz_r = mz[rand_inds,:]\n",
    "    sim3 = batched_cosine_sim(fz[y == yi,:], mz_r)\n",
    "    sim_matrix_shuffle_mf.append(sim3)\n",
    "    "
   ]
  },
  {
   "cell_type": "code",
   "execution_count": 15,
   "id": "2431011f",
   "metadata": {},
   "outputs": [],
   "source": [
    "np.nonzero(y == yi)[0].shape"
   ]
  },
  {
   "cell_type": "code",
   "execution_count": 16,
   "id": "c6d132e1",
   "metadata": {},
   "outputs": [],
   "source": [
    "#for i in range(4):\n",
    "plt.hist([sim_matrix_fz[0], sim_matrix_mf[0], sim_matrix_shuffle_mf[0]], label = ['Full - Full', 'Full - Masked', 'Full - Shuffled Masked'])\n",
    "# plt.hist(sim_matrix_mf)\n",
    "plt.legend()\n",
    "plt.show()\n"
   ]
  },
  {
   "cell_type": "code",
   "execution_count": 17,
   "id": "59c72a1b",
   "metadata": {},
   "outputs": [],
   "source": [
    "sim_matrix_fz = []\n",
    "sim_matrix_mf = []\n",
    "sim_matrix_shuffle_mf = []\n",
    "\n",
    "y = ([0] * 250) + ([1] * 250) + ([2] * 250) + ([3] * 250)\n",
    "\n",
    "xl, yl = np.meshgrid(np.arange(np.unique(y).shape[0]), np.arange(np.unique(y).shape[0]))\n",
    "\n",
    "for y1i, y2i in zip(xl.flatten(), yl.flatten()):\n",
    "    # 1. shuffle\n",
    "    nyi = (y == y2i).sum()\n",
    "    rand_inds = np.random.choice(np.nonzero(y == y2i)[0], size = nyi, replace = False)\n",
    "    \n",
    "    # Fz computation:\n",
    "    sim1 = batched_cosine_sim(fz[y == y1i,:], mz[y == y2i,:])\n",
    "    sim_matrix_mf.append(sim1)\n",
    "    \n",
    "    sim2 = batched_cosine_sim(fz[y == y1i,:], fz[y == y2i,:])\n",
    "    sim_matrix_fz.append(sim2)\n",
    "    \n",
    "    mz_r = mz[rand_inds,:]\n",
    "    sim3 = batched_cosine_sim(fz[y == y1i,:], mz_r)\n",
    "    sim_matrix_shuffle_mf.append(sim3)\n",
    "    \n"
   ]
  },
  {
   "cell_type": "code",
   "execution_count": 18,
   "id": "6b2c0ec9",
   "metadata": {},
   "outputs": [],
   "source": [
    "import seaborn as sns\n",
    "\n",
    "fig, ax = plt.subplots(4, 4, dpi = 300)\n",
    "fig.set_size_inches(25, 15)\n",
    "\n",
    "for i, j in zip(xl.flatten(), yl.flatten()):\n",
    "    k = (4 * i) + j\n",
    "    #ax[i,j].hist([sim_matrix_fz[k], sim_matrix_mf[k], sim_matrix_shuffle_mf[k]], label = [,], bins = 10)\n",
    "    sns.kdeplot(sim_matrix_fz[k], label = 'Full - Full', ax = ax[i,j])\n",
    "    sns.kdeplot(sim_matrix_mf[k], label = 'Full - Masked', ax = ax[i,j])\n",
    "    sns.kdeplot(sim_matrix_shuffle_mf[k], label = 'Full - Shuffled Masked', ax = ax[i,j])\n",
    "    ax[i,j].set_title('{}, {}'.format(i, j))\n",
    "    ax[i,j].legend()\n",
    "    \n",
    "plt.show()"
   ]
  },
  {
   "cell_type": "code",
   "execution_count": 19,
   "id": "ec359f30",
   "metadata": {},
   "outputs": [],
   "source": [
    "fig, ax = plt.subplots(4, 4, dpi = 300)\n",
    "fig.set_size_inches(25, 15)\n",
    "\n",
    "for i, j in zip(xl.flatten(), yl.flatten()):\n",
    "    k = (4 * i) + j\n",
    "    ax[i,j].hist([sim_matrix_fz[k], sim_matrix_mf[k], sim_matrix_shuffle_mf[k]], label = ['Full - Full', 'Full - Masked', 'Full - Shuffled Masked'], bins = 10)\n",
    "#     sns.kdeplot(sim_matrix_fz[k], label = 'Full - Full', ax = ax[i,j])\n",
    "#     sns.kdeplot(sim_matrix_mf[k], label = 'Full - Masked', ax = ax[i,j])\n",
    "#     sns.kdeplot(sim_matrix_shuffle_mf[k], label = 'Full - Shuffled Masked', ax = ax[i,j])\n",
    "    ax[i,j].set_title('{}, {}'.format(i, j))\n",
    "    ax[i,j].legend()\n",
    "    \n",
    "plt.show()"
   ]
  },
  {
   "cell_type": "code",
   "execution_count": null,
   "id": "ec762278",
   "metadata": {},
   "outputs": [],
   "source": []
  }
 ],
 "metadata": {
  "kernelspec": {
   "display_name": "Python 3 (ipykernel)",
   "language": "python",
   "name": "python3"
  },
  "language_info": {
   "codemirror_mode": {
    "name": "ipython",
    "version": 3
   },
   "file_extension": ".py",
   "mimetype": "text/x-python",
   "name": "python",
   "nbconvert_exporter": "python",
   "pygments_lexer": "ipython3",
   "version": "3.8.12"
  }
 },
 "nbformat": 4,
 "nbformat_minor": 5
}
